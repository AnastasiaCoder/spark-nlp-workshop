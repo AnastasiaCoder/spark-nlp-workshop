{
 "cells": [
  {
   "cell_type": "markdown",
   "metadata": {
    "id": "dF8Nb2m-KUcy"
   },
   "source": [
    "![JohnSnowLabs](https://nlp.johnsnowlabs.com/assets/images/logo.png)"
   ]
  },
  {
   "cell_type": "markdown",
   "metadata": {
    "id": "DugWaXTeKX_H"
   },
   "source": [
    "[![Open In Colab](https://colab.research.google.com/assets/colab-badge.svg)](https://colab.research.google.com/github/JohnSnowLabs/spark-nlp-workshop/blob/master/tutorials/Certification_Trainings/Healthcare/18.Text2SQL.ipynb)"
   ]
  },
  {
   "cell_type": "markdown",
   "metadata": {
    "id": "5M6S6tfJ9u_0"
   },
   "source": [
    "# Text2SQL"
   ]
  },
  {
   "cell_type": "code",
   "execution_count": 2,
   "metadata": {
    "colab": {
     "base_uri": "https://localhost:8080/",
     "height": 86,
     "resources": {
      "http://localhost:8080/nbextensions/google.colab/files.js": {
       "data": "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",
       "headers": [
        [
         "content-type",
         "application/javascript"
        ]
       ],
       "ok": true,
       "status": 200,
       "status_text": ""
      }
     }
    },
    "id": "tyBHihhdKkce",
    "outputId": "6a74ef9e-0c37-4865-b888-919610ef0764"
   },
   "outputs": [
    {
     "data": {
      "text/html": [
       "\n",
       "     <input type=\"file\" id=\"files-53b72a9a-3104-49d2-8dda-4d640a2312dd\" name=\"files[]\" multiple disabled\n",
       "        style=\"border:none\" />\n",
       "     <output id=\"result-53b72a9a-3104-49d2-8dda-4d640a2312dd\">\n",
       "      Upload widget is only available when the cell has been executed in the\n",
       "      current browser session. Please rerun this cell to enable.\n",
       "      </output>\n",
       "      <script src=\"/nbextensions/google.colab/files.js\"></script> "
      ],
      "text/plain": [
       "<IPython.core.display.HTML object>"
      ]
     },
     "metadata": {
      "tags": []
     },
     "output_type": "display_data"
    },
    {
     "name": "stdout",
     "output_type": "stream",
     "text": [
      "Saving workshop_license_keys_365.json to workshop_license_keys_365 (1).json\n"
     ]
    },
    {
     "data": {
      "text/plain": [
       "dict_keys(['PUBLIC_VERSION', 'JSL_VERSION', 'SECRET', 'SPARK_NLP_LICENSE', 'AWS_ACCESS_KEY_ID', 'AWS_SECRET_ACCESS_KEY', 'SPARK_OCR_LICENSE', 'SPARK_OCR_SECRET'])"
      ]
     },
     "execution_count": 2,
     "metadata": {
      "tags": []
     },
     "output_type": "execute_result"
    }
   ],
   "source": [
    "import json\n",
    "\n",
    "from google.colab import files\n",
    "\n",
    "license_keys = files.upload()\n",
    "\n",
    "with open(list(license_keys.keys())[0]) as f:\n",
    "    license_keys = json.load(f)\n",
    "\n",
    "license_keys.keys()\n"
   ]
  },
  {
   "cell_type": "code",
   "execution_count": null,
   "metadata": {
    "id": "yTalvEmWl_m_"
   },
   "outputs": [],
   "source": [
    "import os\n",
    "\n",
    "# Install java\n",
    "! apt-get update -qq\n",
    "! apt-get install -y openjdk-8-jdk-headless -qq > /dev/null\n",
    "\n",
    "os.environ[\"JAVA_HOME\"] = \"/usr/lib/jvm/java-8-openjdk-amd64\"\n",
    "os.environ[\"PATH\"] = os.environ[\"JAVA_HOME\"] + \"/bin:\" + os.environ[\"PATH\"]\n",
    "! java -version\n",
    "\n",
    "secret = license_keys['SECRET']\n",
    "\n",
    "os.environ['SPARK_NLP_LICENSE'] = license_keys['SPARK_NLP_LICENSE']\n",
    "os.environ['AWS_ACCESS_KEY_ID']= license_keys['AWS_ACCESS_KEY_ID']\n",
    "os.environ['AWS_SECRET_ACCESS_KEY'] = license_keys['AWS_SECRET_ACCESS_KEY']\n",
    "version = license_keys['PUBLIC_VERSION']\n",
    "jsl_version = license_keys['JSL_VERSION']\n",
    "\n",
    "! pip install --ignore-installed -q pyspark==2.4.4\n",
    "\n",
    "! python -m pip install --upgrade spark-nlp-jsl==$jsl_version  --extra-index-url https://pypi.johnsnowlabs.com/$secret\n",
    "\n",
    "! pip install --ignore-installed -q spark-nlp==$version\n",
    "\n",
    "import sparknlp\n",
    "\n",
    "print (sparknlp.version())\n",
    "\n",
    "import json\n",
    "import os\n",
    "from pyspark.sql import SparkSession\n",
    "\n",
    "from sparknlp.annotator import *\n",
    "from sparknlp_jsl.annotator import *\n",
    "from sparknlp.base import *\n",
    "import sparknlp_jsl\n",
    "\n",
    "from pyspark.sql import functions as F\n",
    "from pyspark.ml import Pipeline, PipelineModel\n",
    "\n",
    "spark = sparknlp_jsl.start(secret)\n",
    "\n",
    "# sparknlp_jsl.start(secret, public=version) if you want to start with different version of public sparknlp"
   ]
  },
  {
   "cell_type": "markdown",
   "metadata": {
    "id": "1mAgduB1KrHb"
   },
   "source": [
    "## Convert schema json from SqLite schema"
   ]
  },
  {
   "cell_type": "markdown",
   "metadata": {
    "id": "ksxY2tYXPPc7"
   },
   "source": [
    "### explore SqLite tables"
   ]
  },
  {
   "cell_type": "code",
   "execution_count": null,
   "metadata": {
    "id": "rL7-4n8GA-7g"
   },
   "outputs": [],
   "source": [
    "!wget -q https://raw.githubusercontent.com/JohnSnowLabs/spark-nlp-workshop/master/tutorials/Certification_Trainings/Healthcare/data/text2sql/university_basketball.sqlite"
   ]
  },
  {
   "cell_type": "code",
   "execution_count": 46,
   "metadata": {
    "colab": {
     "base_uri": "https://localhost:8080/",
     "height": 33
    },
    "id": "EMfeny-cLgGg",
    "outputId": "246d0580-2ffd-4917-d2af-f42e5ca25437"
   },
   "outputs": [
    {
     "data": {
      "text/plain": [
       "[('basketball_match',), ('university',)]"
      ]
     },
     "execution_count": 46,
     "metadata": {
      "tags": []
     },
     "output_type": "execute_result"
    }
   ],
   "source": [
    "import sqlite3\n",
    "\n",
    "conn = sqlite3.connect('university_basketball.sqlite')\n",
    "\n",
    "cursor = conn.cursor()\n",
    "cursor.execute(\"SELECT name FROM sqlite_master WHERE type='table';\")\n",
    "tables = cursor.fetchall()\n",
    "tables"
   ]
  },
  {
   "cell_type": "code",
   "execution_count": 47,
   "metadata": {
    "colab": {
     "base_uri": "https://localhost:8080/",
     "height": 336
    },
    "id": "pehoWllvLpKS",
    "outputId": "0bfdfa9a-2d3b-45e0-d36d-2175a09784e1"
   },
   "outputs": [
    {
     "data": {
      "text/html": [
       "<div>\n",
       "<style scoped>\n",
       "    .dataframe tbody tr th:only-of-type {\n",
       "        vertical-align: middle;\n",
       "    }\n",
       "\n",
       "    .dataframe tbody tr th {\n",
       "        vertical-align: top;\n",
       "    }\n",
       "\n",
       "    .dataframe thead th {\n",
       "        text-align: right;\n",
       "    }\n",
       "</style>\n",
       "<table border=\"1\" class=\"dataframe\">\n",
       "  <thead>\n",
       "    <tr style=\"text-align: right;\">\n",
       "      <th></th>\n",
       "      <th>Team_ID</th>\n",
       "      <th>School_ID</th>\n",
       "      <th>Team_Name</th>\n",
       "      <th>ACC_Regular_Season</th>\n",
       "      <th>ACC_Percent</th>\n",
       "      <th>ACC_Home</th>\n",
       "      <th>ACC_Road</th>\n",
       "      <th>All_Games</th>\n",
       "      <th>All_Games_Percent</th>\n",
       "      <th>All_Home</th>\n",
       "      <th>All_Road</th>\n",
       "      <th>All_Neutral</th>\n",
       "    </tr>\n",
       "  </thead>\n",
       "  <tbody>\n",
       "    <tr>\n",
       "      <th>0</th>\n",
       "      <td>1</td>\n",
       "      <td>1</td>\n",
       "      <td>North Carolina</td>\n",
       "      <td>14–2</td>\n",
       "      <td>.875</td>\n",
       "      <td>6–2</td>\n",
       "      <td>8–0</td>\n",
       "      <td>35–2</td>\n",
       "      <td>0.946</td>\n",
       "      <td>14–2</td>\n",
       "      <td>13–0</td>\n",
       "      <td>9–1</td>\n",
       "    </tr>\n",
       "    <tr>\n",
       "      <th>1</th>\n",
       "      <td>2</td>\n",
       "      <td>2</td>\n",
       "      <td>Duke</td>\n",
       "      <td>13–3</td>\n",
       "      <td>.813</td>\n",
       "      <td>7–1</td>\n",
       "      <td>6–2</td>\n",
       "      <td>28–6</td>\n",
       "      <td>0.824</td>\n",
       "      <td>15–1</td>\n",
       "      <td>8–2</td>\n",
       "      <td>5–3</td>\n",
       "    </tr>\n",
       "    <tr>\n",
       "      <th>2</th>\n",
       "      <td>3</td>\n",
       "      <td>4</td>\n",
       "      <td>Clemson</td>\n",
       "      <td>10–6</td>\n",
       "      <td>.625</td>\n",
       "      <td>7–1</td>\n",
       "      <td>3–5</td>\n",
       "      <td>24–10</td>\n",
       "      <td>0.706</td>\n",
       "      <td>14–2</td>\n",
       "      <td>6–5</td>\n",
       "      <td>4–3</td>\n",
       "    </tr>\n",
       "    <tr>\n",
       "      <th>3</th>\n",
       "      <td>4</td>\n",
       "      <td>5</td>\n",
       "      <td>Virginia Tech</td>\n",
       "      <td>9–7</td>\n",
       "      <td>.563</td>\n",
       "      <td>6–2</td>\n",
       "      <td>3–5</td>\n",
       "      <td>21–14</td>\n",
       "      <td>0.600</td>\n",
       "      <td>14–3</td>\n",
       "      <td>4–8</td>\n",
       "      <td>3–3</td>\n",
       "    </tr>\n",
       "  </tbody>\n",
       "</table>\n",
       "</div>"
      ],
      "text/plain": [
       "   Team_ID  School_ID       Team_Name  ... All_Home All_Road All_Neutral\n",
       "0        1          1  North Carolina  ...     14–2     13–0         9–1\n",
       "1        2          2            Duke  ...     15–1      8–2         5–3\n",
       "2        3          4         Clemson  ...     14–2      6–5         4–3\n",
       "3        4          5   Virginia Tech  ...     14–3      4–8         3–3\n",
       "\n",
       "[4 rows x 12 columns]"
      ]
     },
     "metadata": {
      "tags": []
     },
     "output_type": "display_data"
    },
    {
     "data": {
      "text/html": [
       "<div>\n",
       "<style scoped>\n",
       "    .dataframe tbody tr th:only-of-type {\n",
       "        vertical-align: middle;\n",
       "    }\n",
       "\n",
       "    .dataframe tbody tr th {\n",
       "        vertical-align: top;\n",
       "    }\n",
       "\n",
       "    .dataframe thead th {\n",
       "        text-align: right;\n",
       "    }\n",
       "</style>\n",
       "<table border=\"1\" class=\"dataframe\">\n",
       "  <thead>\n",
       "    <tr style=\"text-align: right;\">\n",
       "      <th></th>\n",
       "      <th>School_ID</th>\n",
       "      <th>School</th>\n",
       "      <th>Location</th>\n",
       "      <th>Founded</th>\n",
       "      <th>Affiliation</th>\n",
       "      <th>Enrollment</th>\n",
       "      <th>Nickname</th>\n",
       "      <th>Primary_conference</th>\n",
       "    </tr>\n",
       "  </thead>\n",
       "  <tbody>\n",
       "    <tr>\n",
       "      <th>0</th>\n",
       "      <td>1</td>\n",
       "      <td>University of Delaware</td>\n",
       "      <td>Newark, DE</td>\n",
       "      <td>1743.0</td>\n",
       "      <td>Public</td>\n",
       "      <td>19067.0</td>\n",
       "      <td>Fightin' Blue Hens</td>\n",
       "      <td>Colonial Athletic Association ( D-I )</td>\n",
       "    </tr>\n",
       "    <tr>\n",
       "      <th>1</th>\n",
       "      <td>2</td>\n",
       "      <td>Lebanon Valley College</td>\n",
       "      <td>Annville, PA</td>\n",
       "      <td>1866.0</td>\n",
       "      <td>Private/Methodist</td>\n",
       "      <td>2100.0</td>\n",
       "      <td>Flying Dutchmen</td>\n",
       "      <td>MAC Commonwealth Conference ( D-III )</td>\n",
       "    </tr>\n",
       "    <tr>\n",
       "      <th>2</th>\n",
       "      <td>3</td>\n",
       "      <td>University of Rhode Island</td>\n",
       "      <td>Kingston, RI</td>\n",
       "      <td>1892.0</td>\n",
       "      <td>Public</td>\n",
       "      <td>19095.0</td>\n",
       "      <td>Rams</td>\n",
       "      <td>Atlantic 10 Conference ( D-I )</td>\n",
       "    </tr>\n",
       "    <tr>\n",
       "      <th>3</th>\n",
       "      <td>4</td>\n",
       "      <td>Rutgers University</td>\n",
       "      <td>New Brunswick, NJ</td>\n",
       "      <td>1766.0</td>\n",
       "      <td>Public</td>\n",
       "      <td>56868.0</td>\n",
       "      <td>Scarlet Knights</td>\n",
       "      <td>American Athletic Conference ( D-I )</td>\n",
       "    </tr>\n",
       "    <tr>\n",
       "      <th>4</th>\n",
       "      <td>5</td>\n",
       "      <td>Stony Brook University</td>\n",
       "      <td>Stony Brook, NY</td>\n",
       "      <td>1957.0</td>\n",
       "      <td>Public</td>\n",
       "      <td>23997.0</td>\n",
       "      <td>Seawolves</td>\n",
       "      <td>America East Conference ( D-I )</td>\n",
       "    </tr>\n",
       "  </tbody>\n",
       "</table>\n",
       "</div>"
      ],
      "text/plain": [
       "   School_ID  ...                     Primary_conference\n",
       "0          1  ...  Colonial Athletic Association ( D-I )\n",
       "1          2  ...  MAC Commonwealth Conference ( D-III )\n",
       "2          3  ...         Atlantic 10 Conference ( D-I )\n",
       "3          4  ...   American Athletic Conference ( D-I )\n",
       "4          5  ...        America East Conference ( D-I )\n",
       "\n",
       "[5 rows x 8 columns]"
      ]
     },
     "metadata": {
      "tags": []
     },
     "output_type": "display_data"
    }
   ],
   "source": [
    "import pandas as pd\n",
    "\n",
    "from IPython.display import display, HTML\n",
    "\n",
    "for table_name in tables:\n",
    "    table_name = table_name[0]\n",
    "    table = pd.read_sql_query(\"SELECT * from %s\" % table_name, conn)\n",
    "    display (table)"
   ]
  },
  {
   "cell_type": "markdown",
   "metadata": {
    "id": "B3K_0_AkLzBf"
   },
   "source": [
    "### convert to tetx2SQL format"
   ]
  },
  {
   "cell_type": "code",
   "execution_count": 12,
   "metadata": {
    "colab": {
     "base_uri": "https://localhost:8080/",
     "height": 50
    },
    "id": "Kjm7M6M5LMpf",
    "outputId": "48c7635f-4ea3-4aa1-dcfe-e1467b1e2033"
   },
   "outputs": [
    {
     "name": "stdout",
     "output_type": "stream",
     "text": [
      "\n",
      "reading db:  university_basketball.sqlite\n"
     ]
    }
   ],
   "source": [
    "from sparknlp_jsl._tf_graph_builders.text2sql.util import sqlite2json\n",
    "\n",
    "schema_json_path = 'schema_converted.json'\n",
    "\n",
    "sqlite2json(\"university_basketball.sqlite\",schema_json_path)"
   ]
  },
  {
   "cell_type": "markdown",
   "metadata": {
    "id": "3wj8TrBILWO_"
   },
   "source": [
    "## Prepare DB schema"
   ]
  },
  {
   "cell_type": "markdown",
   "metadata": {
    "id": "-bGWsnu6LSKh"
   },
   "source": [
    "This is a one-time process for every new db schema that you want to work on"
   ]
  },
  {
   "cell_type": "code",
   "execution_count": 13,
   "metadata": {
    "id": "9MI-9FGeNrgt"
   },
   "outputs": [],
   "source": [
    "def prepare_db_schema(schema_json_path, output_json_path):\n",
    "\n",
    "  document = DocumentAssembler()\\\n",
    "    .setInputCol(\"text\")\\\n",
    "    .setOutputCol(\"document\")\n",
    "\n",
    "  tables = Text2SQLSchemaParser() \\\n",
    "      .setOutputCol(\"table_metadata_chunk\") \\\n",
    "      .setSchemaPath(schema_json_path) \\\n",
    "      .setInputCols([\"document\"])\n",
    "\n",
    "  chunk2doc = Chunk2Doc() \\\n",
    "      .setInputCols([\"table_metadata_chunk\"]) \\\n",
    "      .setOutputCol(\"table_metadata_doc\")\n",
    "\n",
    "  table_tokenizer = Tokenizer() \\\n",
    "      .setOutputCol(\"table_token\") \\\n",
    "      .setInputCols([\"table_metadata_doc\"])\n",
    "\n",
    "  table_embedding = WordEmbeddingsModel.pretrained(\"glove_6B_300\", \"xx\") \\\n",
    "      .setInputCols([\"table_metadata_doc\", \"table_token\"]) \\\n",
    "      .setOutputCol(\"table_embedding\")\n",
    "\n",
    "  table_chunk_embeddings = ChunkEmbeddings() \\\n",
    "      .setOutputCol(\"table_metadata_chunk_embedding\") \\\n",
    "      .setInputCols(\"table_metadata_chunk\", \"table_embedding\")\n",
    "\n",
    "  table_exporter = Text2SQLSchemaExporter()\\\n",
    "      .setInputCols([\"table_metadata_chunk_embedding\",\"table_metadata_chunk\"])\\\n",
    "      .setOutputPath(output_json_path)\n",
    "\n",
    "  table_pl = Pipeline() \\\n",
    "      .setStages([\n",
    "      document,\n",
    "      tables,\n",
    "      chunk2doc,\n",
    "      table_tokenizer,\n",
    "      table_embedding,\n",
    "      table_chunk_embeddings,\n",
    "      table_exporter\n",
    "  ])\n",
    "\n",
    "  data = spark.createDataFrame([\n",
    "              [1, \"\"]]) \\\n",
    "              .toDF(\"id\", \"text\").cache()\n",
    "\n",
    "  table_model = table_pl.fit(data).transform(data)\n",
    "\n",
    "  print (output_json_path, 'is created and saved')\n",
    "\n",
    "  return table_model.show()"
   ]
  },
  {
   "cell_type": "code",
   "execution_count": 52,
   "metadata": {
    "colab": {
     "base_uri": "https://localhost:8080/",
     "height": 180
    },
    "id": "pQkamGRwDajY",
    "outputId": "e6c3411f-4475-4bff-b7ac-763d35a6ebd5"
   },
   "outputs": [
    {
     "name": "stdout",
     "output_type": "stream",
     "text": [
      "glove_6B_300 download started this may take some time.\n",
      "Approximate size to download 426.2 MB\n",
      "[OK!]\n",
      "db_embeddings.json is created and saved\n",
      "+---+----+--------------------+--------------------+--------------------+--------------------+--------------------+------------------------------+--------------------+\n",
      "| id|text|            document|table_metadata_chunk|  table_metadata_doc|         table_token|     table_embedding|table_metadata_chunk_embedding|              export|\n",
      "+---+----+--------------------+--------------------+--------------------+--------------------+--------------------+------------------------------+--------------------+\n",
      "|  1|    |[[document, 0, -1...|[[chunk, 0, 15, b...|[[document, 0, 15...|[[token, 0, 9, ba...|[[word_embeddings...|          [[word_embeddings...|[[chunk, 0, 15, b...|\n",
      "+---+----+--------------------+--------------------+--------------------+--------------------+--------------------+------------------------------+--------------------+\n",
      "\n"
     ]
    }
   ],
   "source": [
    "schema_json_path = 'schema_converted.json'\n",
    "output_json_path = \"db_embeddings.json\"\n",
    "\n",
    "prepare_db_schema(schema_json_path, output_json_path)"
   ]
  },
  {
   "cell_type": "markdown",
   "metadata": {
    "id": "fSBeGVBoNCW1"
   },
   "source": [
    "## Prepare Text2SQL pipeline"
   ]
  },
  {
   "cell_type": "markdown",
   "metadata": {
    "id": "9JMqrcGXLgBf"
   },
   "source": [
    "This is a one-time process for every new db schema that you want to work on"
   ]
  },
  {
   "cell_type": "code",
   "execution_count": 16,
   "metadata": {
    "id": "aLQ8orBBQN88"
   },
   "outputs": [],
   "source": [
    "def get_text2sql_model (schema_json_path, output_json_path):\n",
    "\n",
    "  question_document = DocumentAssembler()\\\n",
    "      .setInputCol(\"text\")\\\n",
    "      .setOutputCol(\"document\")\n",
    "\n",
    "  sentence_detector = SentenceDetectorDLModel.pretrained()\\\n",
    "      .setInputCols(\"document\")\\\n",
    "      .setOutputCol(\"sentence\")\n",
    "\n",
    "  tokenizer = Tokenizer()\\\n",
    "      .setInputCols(\"sentence\")\\\n",
    "      .setOutputCol(\"token\")\n",
    "\n",
    "  question_embbeding = WordEmbeddingsModel.pretrained(\"glove_6B_300\", \"xx\") \\\n",
    "      .setInputCols([\"sentence\", \"token\"]) \\\n",
    "      .setOutputCol(\"question_embedding\")\n",
    "\n",
    "  text2sql_model = Text2SQLModel.pretrained('text2sql_glove', 'en', 'clinical/models') \\\n",
    "              .setSchemaPath(schema_json_path) \\\n",
    "              .setTableEmbeddingPath(output_json_path)\\\n",
    "              .setInputCols([\"token\", \"question_embedding\", \"chunk_emb\", \"table_metadata_chunk\"]) \\\n",
    "              .setOutputCol(\"sql\")\n",
    "\n",
    "  sql_pipeline = Pipeline(stages=[\n",
    "              question_document,\n",
    "              sentence_detector,\n",
    "              tokenizer,\n",
    "              question_embbeding,\n",
    "              text2sql_model\n",
    "          ])\n",
    "\n",
    "  data = spark.createDataFrame([[\"\"]]).toDF(\"text\")\n",
    "\n",
    "  sql_prediction_model = sql_pipeline.fit(data)\n",
    "\n",
    "  sql_prediction_light = LightPipeline(sql_prediction_model)\n",
    "\n",
    "  print ('text2sql prediction model is built')\n",
    "\n",
    "  return sql_prediction_light"
   ]
  },
  {
   "cell_type": "code",
   "execution_count": 53,
   "metadata": {
    "colab": {
     "base_uri": "https://localhost:8080/",
     "height": 180
    },
    "id": "1Ah8WnNREKss",
    "outputId": "d1d02e78-e451-4e77-a7bb-b1ba7f4ed259"
   },
   "outputs": [
    {
     "name": "stdout",
     "output_type": "stream",
     "text": [
      "sentence_detector_dl download started this may take some time.\n",
      "Approximate size to download 307.2 KB\n",
      "[OK!]\n",
      "glove_6B_300 download started this may take some time.\n",
      "Approximate size to download 426.2 MB\n",
      "[OK!]\n",
      "text2sql_glove download started this may take some time.\n",
      "Approximate size to download 37.6 MB\n",
      "[OK!]\n",
      "text2sql prediction model is built\n"
     ]
    }
   ],
   "source": [
    "sql_prediction_light = get_text2sql_model (schema_json_path, output_json_path)"
   ]
  },
  {
   "cell_type": "markdown",
   "metadata": {
    "id": "j6MLWSozOuZp"
   },
   "source": [
    "## Example queries"
   ]
  },
  {
   "cell_type": "code",
   "execution_count": 57,
   "metadata": {
    "id": "_Kk6v-4lRK87"
   },
   "outputs": [],
   "source": [
    "import sqlparse\n",
    "\n",
    "def annotate_and_print(question, sql_light=sql_prediction_light, markdown=False, param=None):\n",
    "\n",
    "    sql = sql_light.annotate(question)[\"sql\"][0]\n",
    "\n",
    "    print(sqlparse.format(sql, reindent=True, keyword_case='upper'))\n",
    "    print(\"\\n\")\n",
    "\n",
    "    if markdown:\n",
    "      print (pd.read_sql(sql,conn,params=param).to_markdown())\n",
    "    else:\n",
    "      display(pd.read_sql(sql,conn,params=param))\n",
    "    "
   ]
  },
  {
   "cell_type": "code",
   "execution_count": 55,
   "metadata": {
    "colab": {
     "base_uri": "https://localhost:8080/",
     "height": 190
    },
    "id": "aB9vv6nmRRGq",
    "outputId": "5891e6df-9f59-453a-f662-ad74c084ada5"
   },
   "outputs": [
    {
     "name": "stdout",
     "output_type": "stream",
     "text": [
      "SELECT T1.Enrollment,\n",
      "       T1.Primary_conference\n",
      "FROM university AS T1\n",
      "ORDER BY T1.Founded ASC\n",
      "LIMIT 1\n",
      "\n",
      "\n"
     ]
    },
    {
     "data": {
      "text/html": [
       "<div>\n",
       "<style scoped>\n",
       "    .dataframe tbody tr th:only-of-type {\n",
       "        vertical-align: middle;\n",
       "    }\n",
       "\n",
       "    .dataframe tbody tr th {\n",
       "        vertical-align: top;\n",
       "    }\n",
       "\n",
       "    .dataframe thead th {\n",
       "        text-align: right;\n",
       "    }\n",
       "</style>\n",
       "<table border=\"1\" class=\"dataframe\">\n",
       "  <thead>\n",
       "    <tr style=\"text-align: right;\">\n",
       "      <th></th>\n",
       "      <th>Enrollment</th>\n",
       "      <th>Primary_conference</th>\n",
       "    </tr>\n",
       "  </thead>\n",
       "  <tbody>\n",
       "    <tr>\n",
       "      <th>0</th>\n",
       "      <td>19067.0</td>\n",
       "      <td>Colonial Athletic Association ( D-I )</td>\n",
       "    </tr>\n",
       "  </tbody>\n",
       "</table>\n",
       "</div>"
      ],
      "text/plain": [
       "   Enrollment                     Primary_conference\n",
       "0     19067.0  Colonial Athletic Association ( D-I )"
      ]
     },
     "metadata": {
      "tags": []
     },
     "output_type": "display_data"
    }
   ],
   "source": [
    "annotate_and_print(\"What are the enrollment and primary conference for the university which was founded the earliest?\")"
   ]
  },
  {
   "cell_type": "code",
   "execution_count": 58,
   "metadata": {
    "colab": {
     "base_uri": "https://localhost:8080/",
     "height": 180
    },
    "id": "JppP0IVEJV0I",
    "outputId": "06119af2-bb88-481b-f6c5-5fb757dfe38c"
   },
   "outputs": [
    {
     "name": "stdout",
     "output_type": "stream",
     "text": [
      "SELECT T1.Enrollment,\n",
      "       T1.Primary_conference\n",
      "FROM university AS T1\n",
      "ORDER BY T1.Founded ASC\n",
      "LIMIT 1\n",
      "\n",
      "\n",
      "|    |   Enrollment | Primary_conference                    |\n",
      "|---:|-------------:|:--------------------------------------|\n",
      "|  0 |        19067 | Colonial Athletic Association ( D-I ) |\n"
     ]
    }
   ],
   "source": [
    "annotate_and_print(\"What are the enrollment and primary conference for the university which was founded the earliest?\", markdown=True)"
   ]
  },
  {
   "cell_type": "code",
   "execution_count": null,
   "metadata": {
    "colab": {
     "base_uri": "https://localhost:8080/",
     "height": 157
    },
    "id": "nAkIQRfVW6bV",
    "outputId": "c9860c7b-d1fc-42c2-8b99-6acc7666ca74"
   },
   "outputs": [
    {
     "name": "stdout",
     "output_type": "stream",
     "text": [
      "SELECT sum(T1.Enrollment),\n",
      "       min(T1.Enrollment)\n",
      "FROM university AS T1\n",
      "\n",
      "\n"
     ]
    },
    {
     "data": {
      "text/html": [
       "<div>\n",
       "<style scoped>\n",
       "    .dataframe tbody tr th:only-of-type {\n",
       "        vertical-align: middle;\n",
       "    }\n",
       "\n",
       "    .dataframe tbody tr th {\n",
       "        vertical-align: top;\n",
       "    }\n",
       "\n",
       "    .dataframe thead th {\n",
       "        text-align: right;\n",
       "    }\n",
       "</style>\n",
       "<table border=\"1\" class=\"dataframe\">\n",
       "  <thead>\n",
       "    <tr style=\"text-align: right;\">\n",
       "      <th></th>\n",
       "      <th>sum(T1.Enrollment)</th>\n",
       "      <th>min(T1.Enrollment)</th>\n",
       "    </tr>\n",
       "  </thead>\n",
       "  <tbody>\n",
       "    <tr>\n",
       "      <th>0</th>\n",
       "      <td>121127.0</td>\n",
       "      <td>2100.0</td>\n",
       "    </tr>\n",
       "  </tbody>\n",
       "</table>\n",
       "</div>"
      ],
      "text/plain": [
       "   sum(T1.Enrollment)  min(T1.Enrollment)\n",
       "0            121127.0              2100.0"
      ]
     },
     "metadata": {
      "tags": []
     },
     "output_type": "display_data"
    }
   ],
   "source": [
    "annotate_and_print(\"What is the total and minimum enrollment of all schools?\")"
   ]
  },
  {
   "cell_type": "code",
   "execution_count": null,
   "metadata": {
    "colab": {
     "base_uri": "https://localhost:8080/",
     "height": 157
    },
    "id": "aGLxQHeyOZgB",
    "outputId": "6033a4de-e09e-4f11-ad8a-7d7b676d64ac"
   },
   "outputs": [
    {
     "name": "stdout",
     "output_type": "stream",
     "text": [
      "SELECT sum(T1.All_Neutral),\n",
      "       min(T1.All_Neutral)\n",
      "FROM basketball_match AS T1\n",
      "\n",
      "\n"
     ]
    },
    {
     "data": {
      "text/html": [
       "<div>\n",
       "<style scoped>\n",
       "    .dataframe tbody tr th:only-of-type {\n",
       "        vertical-align: middle;\n",
       "    }\n",
       "\n",
       "    .dataframe tbody tr th {\n",
       "        vertical-align: top;\n",
       "    }\n",
       "\n",
       "    .dataframe thead th {\n",
       "        text-align: right;\n",
       "    }\n",
       "</style>\n",
       "<table border=\"1\" class=\"dataframe\">\n",
       "  <thead>\n",
       "    <tr style=\"text-align: right;\">\n",
       "      <th></th>\n",
       "      <th>sum(T1.All_Neutral)</th>\n",
       "      <th>min(T1.All_Neutral)</th>\n",
       "    </tr>\n",
       "  </thead>\n",
       "  <tbody>\n",
       "    <tr>\n",
       "      <th>0</th>\n",
       "      <td>21.0</td>\n",
       "      <td>3–3</td>\n",
       "    </tr>\n",
       "  </tbody>\n",
       "</table>\n",
       "</div>"
      ],
      "text/plain": [
       "   sum(T1.All_Neutral) min(T1.All_Neutral)\n",
       "0                 21.0                 3–3"
      ]
     },
     "metadata": {
      "tags": []
     },
     "output_type": "display_data"
    }
   ],
   "source": [
    "annotate_and_print(\"Return the total and minimum enrollments across all schools.\")"
   ]
  },
  {
   "cell_type": "code",
   "execution_count": null,
   "metadata": {
    "colab": {
     "base_uri": "https://localhost:8080/",
     "height": 202
    },
    "id": "ETgHNfcUOdfm",
    "outputId": "02ca302d-31cf-4566-879f-cc9269b89528"
   },
   "outputs": [
    {
     "name": "stdout",
     "output_type": "stream",
     "text": [
      "SELECT sum(T1.Enrollment),\n",
      "       T1.Affiliation\n",
      "FROM university AS T1\n",
      "GROUP BY T1.Affiliation\n",
      "\n",
      "\n"
     ]
    },
    {
     "data": {
      "text/html": [
       "<div>\n",
       "<style scoped>\n",
       "    .dataframe tbody tr th:only-of-type {\n",
       "        vertical-align: middle;\n",
       "    }\n",
       "\n",
       "    .dataframe tbody tr th {\n",
       "        vertical-align: top;\n",
       "    }\n",
       "\n",
       "    .dataframe thead th {\n",
       "        text-align: right;\n",
       "    }\n",
       "</style>\n",
       "<table border=\"1\" class=\"dataframe\">\n",
       "  <thead>\n",
       "    <tr style=\"text-align: right;\">\n",
       "      <th></th>\n",
       "      <th>sum(T1.Enrollment)</th>\n",
       "      <th>Affiliation</th>\n",
       "    </tr>\n",
       "  </thead>\n",
       "  <tbody>\n",
       "    <tr>\n",
       "      <th>0</th>\n",
       "      <td>2100.0</td>\n",
       "      <td>Private/Methodist</td>\n",
       "    </tr>\n",
       "    <tr>\n",
       "      <th>1</th>\n",
       "      <td>119027.0</td>\n",
       "      <td>Public</td>\n",
       "    </tr>\n",
       "  </tbody>\n",
       "</table>\n",
       "</div>"
      ],
      "text/plain": [
       "   sum(T1.Enrollment)        Affiliation\n",
       "0              2100.0  Private/Methodist\n",
       "1            119027.0             Public"
      ]
     },
     "metadata": {
      "tags": []
     },
     "output_type": "display_data"
    }
   ],
   "source": [
    "annotate_and_print(\"Find the total student enrollment for different affiliation type schools.\")"
   ]
  },
  {
   "cell_type": "code",
   "execution_count": null,
   "metadata": {
    "colab": {
     "base_uri": "https://localhost:8080/",
     "height": 141
    },
    "id": "ygD1T5OiOhaW",
    "outputId": "af330807-c5b7-4aec-e9d0-cdf7f32adcc7"
   },
   "outputs": [
    {
     "name": "stdout",
     "output_type": "stream",
     "text": [
      "SELECT count(T1.Affiliation)\n",
      "FROM university AS T1\n",
      "\n",
      "\n"
     ]
    },
    {
     "data": {
      "text/html": [
       "<div>\n",
       "<style scoped>\n",
       "    .dataframe tbody tr th:only-of-type {\n",
       "        vertical-align: middle;\n",
       "    }\n",
       "\n",
       "    .dataframe tbody tr th {\n",
       "        vertical-align: top;\n",
       "    }\n",
       "\n",
       "    .dataframe thead th {\n",
       "        text-align: right;\n",
       "    }\n",
       "</style>\n",
       "<table border=\"1\" class=\"dataframe\">\n",
       "  <thead>\n",
       "    <tr style=\"text-align: right;\">\n",
       "      <th></th>\n",
       "      <th>count(T1.Affiliation)</th>\n",
       "    </tr>\n",
       "  </thead>\n",
       "  <tbody>\n",
       "    <tr>\n",
       "      <th>0</th>\n",
       "      <td>5</td>\n",
       "    </tr>\n",
       "  </tbody>\n",
       "</table>\n",
       "</div>"
      ],
      "text/plain": [
       "   count(T1.Affiliation)\n",
       "0                      5"
      ]
     },
     "metadata": {
      "tags": []
     },
     "output_type": "display_data"
    }
   ],
   "source": [
    "annotate_and_print(\"Find how many different affiliation types there are.\")"
   ]
  },
  {
   "cell_type": "code",
   "execution_count": null,
   "metadata": {
    "id": "IKCr2If1_k1x"
   },
   "outputs": [],
   "source": []
  },
  {
   "cell_type": "markdown",
   "metadata": {
    "id": "aJEkt8xaAbSD"
   },
   "source": [
    "## Use case: Hospital records"
   ]
  },
  {
   "cell_type": "code",
   "execution_count": null,
   "metadata": {
    "id": "aEx7T23wAzZd"
   },
   "outputs": [],
   "source": [
    "!wget -q https://raw.githubusercontent.com/JohnSnowLabs/spark-nlp-workshop/master/tutorials/Certification_Trainings/Healthcare/data/text2sql/hospital_records.sqlite"
   ]
  },
  {
   "cell_type": "code",
   "execution_count": 61,
   "metadata": {
    "colab": {
     "base_uri": "https://localhost:8080/",
     "height": 261
    },
    "id": "mG5oOsbtAv0M",
    "outputId": "dabfd974-ae70-47b3-d410-3b56d95f25ed"
   },
   "outputs": [
    {
     "data": {
      "text/plain": [
       "[('Physician',),\n",
       " ('Department',),\n",
       " ('Affiliated_With',),\n",
       " ('Procedures',),\n",
       " ('Trained_In',),\n",
       " ('Patient',),\n",
       " ('Nurse',),\n",
       " ('Appointment',),\n",
       " ('Medication',),\n",
       " ('Prescribes',),\n",
       " ('Block',),\n",
       " ('Room',),\n",
       " ('On_Call',),\n",
       " ('Stay',),\n",
       " ('Undergoes',)]"
      ]
     },
     "execution_count": 61,
     "metadata": {
      "tags": []
     },
     "output_type": "execute_result"
    }
   ],
   "source": [
    "import sqlite3\n",
    "\n",
    "conn = sqlite3.connect('/content/hospital_records.sqlite')\n",
    "\n",
    "cursor = conn.cursor()\n",
    "cursor.execute(\"SELECT name FROM sqlite_master WHERE type='table';\")\n",
    "tables = cursor.fetchall()\n",
    "tables"
   ]
  },
  {
   "cell_type": "code",
   "execution_count": 62,
   "metadata": {
    "colab": {
     "base_uri": "https://localhost:8080/",
     "height": 1000
    },
    "id": "WC6f3ifgBldB",
    "outputId": "094517ca-83bd-4794-d1f2-15619c5d5a32"
   },
   "outputs": [
    {
     "name": "stdout",
     "output_type": "stream",
     "text": [
      "Physician\n"
     ]
    },
    {
     "data": {
      "text/html": [
       "<div>\n",
       "<style scoped>\n",
       "    .dataframe tbody tr th:only-of-type {\n",
       "        vertical-align: middle;\n",
       "    }\n",
       "\n",
       "    .dataframe tbody tr th {\n",
       "        vertical-align: top;\n",
       "    }\n",
       "\n",
       "    .dataframe thead th {\n",
       "        text-align: right;\n",
       "    }\n",
       "</style>\n",
       "<table border=\"1\" class=\"dataframe\">\n",
       "  <thead>\n",
       "    <tr style=\"text-align: right;\">\n",
       "      <th></th>\n",
       "      <th>EmployeeID</th>\n",
       "      <th>Name</th>\n",
       "      <th>Position</th>\n",
       "      <th>SSN</th>\n",
       "    </tr>\n",
       "  </thead>\n",
       "  <tbody>\n",
       "    <tr>\n",
       "      <th>0</th>\n",
       "      <td>1</td>\n",
       "      <td>John Dorian</td>\n",
       "      <td>Staff Internist</td>\n",
       "      <td>111111111</td>\n",
       "    </tr>\n",
       "    <tr>\n",
       "      <th>1</th>\n",
       "      <td>2</td>\n",
       "      <td>Elliot Reid</td>\n",
       "      <td>Attending Physician</td>\n",
       "      <td>222222222</td>\n",
       "    </tr>\n",
       "    <tr>\n",
       "      <th>2</th>\n",
       "      <td>3</td>\n",
       "      <td>Christopher Turk</td>\n",
       "      <td>Surgical Attending Physician</td>\n",
       "      <td>333333333</td>\n",
       "    </tr>\n",
       "    <tr>\n",
       "      <th>3</th>\n",
       "      <td>4</td>\n",
       "      <td>Percival Cox</td>\n",
       "      <td>Senior Attending Physician</td>\n",
       "      <td>444444444</td>\n",
       "    </tr>\n",
       "    <tr>\n",
       "      <th>4</th>\n",
       "      <td>5</td>\n",
       "      <td>Bob Kelso</td>\n",
       "      <td>Head Chief of Medicine</td>\n",
       "      <td>555555555</td>\n",
       "    </tr>\n",
       "  </tbody>\n",
       "</table>\n",
       "</div>"
      ],
      "text/plain": [
       "   EmployeeID              Name                      Position        SSN\n",
       "0           1       John Dorian               Staff Internist  111111111\n",
       "1           2       Elliot Reid           Attending Physician  222222222\n",
       "2           3  Christopher Turk  Surgical Attending Physician  333333333\n",
       "3           4      Percival Cox    Senior Attending Physician  444444444\n",
       "4           5         Bob Kelso        Head Chief of Medicine  555555555"
      ]
     },
     "metadata": {
      "tags": []
     },
     "output_type": "display_data"
    },
    {
     "name": "stdout",
     "output_type": "stream",
     "text": [
      "========\n",
      "Department\n"
     ]
    },
    {
     "data": {
      "text/html": [
       "<div>\n",
       "<style scoped>\n",
       "    .dataframe tbody tr th:only-of-type {\n",
       "        vertical-align: middle;\n",
       "    }\n",
       "\n",
       "    .dataframe tbody tr th {\n",
       "        vertical-align: top;\n",
       "    }\n",
       "\n",
       "    .dataframe thead th {\n",
       "        text-align: right;\n",
       "    }\n",
       "</style>\n",
       "<table border=\"1\" class=\"dataframe\">\n",
       "  <thead>\n",
       "    <tr style=\"text-align: right;\">\n",
       "      <th></th>\n",
       "      <th>DepartmentID</th>\n",
       "      <th>Name</th>\n",
       "      <th>Head</th>\n",
       "    </tr>\n",
       "  </thead>\n",
       "  <tbody>\n",
       "    <tr>\n",
       "      <th>0</th>\n",
       "      <td>1</td>\n",
       "      <td>General Medicine</td>\n",
       "      <td>4</td>\n",
       "    </tr>\n",
       "    <tr>\n",
       "      <th>1</th>\n",
       "      <td>2</td>\n",
       "      <td>Surgery</td>\n",
       "      <td>7</td>\n",
       "    </tr>\n",
       "    <tr>\n",
       "      <th>2</th>\n",
       "      <td>3</td>\n",
       "      <td>Psychiatry</td>\n",
       "      <td>9</td>\n",
       "    </tr>\n",
       "  </tbody>\n",
       "</table>\n",
       "</div>"
      ],
      "text/plain": [
       "   DepartmentID              Name  Head\n",
       "0             1  General Medicine     4\n",
       "1             2           Surgery     7\n",
       "2             3        Psychiatry     9"
      ]
     },
     "metadata": {
      "tags": []
     },
     "output_type": "display_data"
    },
    {
     "name": "stdout",
     "output_type": "stream",
     "text": [
      "========\n",
      "Affiliated_With\n"
     ]
    },
    {
     "data": {
      "text/html": [
       "<div>\n",
       "<style scoped>\n",
       "    .dataframe tbody tr th:only-of-type {\n",
       "        vertical-align: middle;\n",
       "    }\n",
       "\n",
       "    .dataframe tbody tr th {\n",
       "        vertical-align: top;\n",
       "    }\n",
       "\n",
       "    .dataframe thead th {\n",
       "        text-align: right;\n",
       "    }\n",
       "</style>\n",
       "<table border=\"1\" class=\"dataframe\">\n",
       "  <thead>\n",
       "    <tr style=\"text-align: right;\">\n",
       "      <th></th>\n",
       "      <th>Physician</th>\n",
       "      <th>Department</th>\n",
       "      <th>PrimaryAffiliation</th>\n",
       "    </tr>\n",
       "  </thead>\n",
       "  <tbody>\n",
       "    <tr>\n",
       "      <th>0</th>\n",
       "      <td>1</td>\n",
       "      <td>1</td>\n",
       "      <td>1</td>\n",
       "    </tr>\n",
       "    <tr>\n",
       "      <th>1</th>\n",
       "      <td>2</td>\n",
       "      <td>1</td>\n",
       "      <td>1</td>\n",
       "    </tr>\n",
       "    <tr>\n",
       "      <th>2</th>\n",
       "      <td>3</td>\n",
       "      <td>1</td>\n",
       "      <td>0</td>\n",
       "    </tr>\n",
       "    <tr>\n",
       "      <th>3</th>\n",
       "      <td>3</td>\n",
       "      <td>2</td>\n",
       "      <td>1</td>\n",
       "    </tr>\n",
       "    <tr>\n",
       "      <th>4</th>\n",
       "      <td>4</td>\n",
       "      <td>1</td>\n",
       "      <td>1</td>\n",
       "    </tr>\n",
       "  </tbody>\n",
       "</table>\n",
       "</div>"
      ],
      "text/plain": [
       "   Physician  Department  PrimaryAffiliation\n",
       "0          1           1                   1\n",
       "1          2           1                   1\n",
       "2          3           1                   0\n",
       "3          3           2                   1\n",
       "4          4           1                   1"
      ]
     },
     "metadata": {
      "tags": []
     },
     "output_type": "display_data"
    },
    {
     "name": "stdout",
     "output_type": "stream",
     "text": [
      "========\n",
      "Procedures\n"
     ]
    },
    {
     "data": {
      "text/html": [
       "<div>\n",
       "<style scoped>\n",
       "    .dataframe tbody tr th:only-of-type {\n",
       "        vertical-align: middle;\n",
       "    }\n",
       "\n",
       "    .dataframe tbody tr th {\n",
       "        vertical-align: top;\n",
       "    }\n",
       "\n",
       "    .dataframe thead th {\n",
       "        text-align: right;\n",
       "    }\n",
       "</style>\n",
       "<table border=\"1\" class=\"dataframe\">\n",
       "  <thead>\n",
       "    <tr style=\"text-align: right;\">\n",
       "      <th></th>\n",
       "      <th>Code</th>\n",
       "      <th>Name</th>\n",
       "      <th>Cost</th>\n",
       "    </tr>\n",
       "  </thead>\n",
       "  <tbody>\n",
       "    <tr>\n",
       "      <th>0</th>\n",
       "      <td>1</td>\n",
       "      <td>Reverse Rhinopodoplasty</td>\n",
       "      <td>1500.0</td>\n",
       "    </tr>\n",
       "    <tr>\n",
       "      <th>1</th>\n",
       "      <td>2</td>\n",
       "      <td>Obtuse Pyloric Recombobulation</td>\n",
       "      <td>3750.0</td>\n",
       "    </tr>\n",
       "    <tr>\n",
       "      <th>2</th>\n",
       "      <td>3</td>\n",
       "      <td>Folded Demiophtalmectomy</td>\n",
       "      <td>4500.0</td>\n",
       "    </tr>\n",
       "    <tr>\n",
       "      <th>3</th>\n",
       "      <td>4</td>\n",
       "      <td>Complete Walletectomy</td>\n",
       "      <td>10000.0</td>\n",
       "    </tr>\n",
       "    <tr>\n",
       "      <th>4</th>\n",
       "      <td>5</td>\n",
       "      <td>Obfuscated Dermogastrotomy</td>\n",
       "      <td>4899.0</td>\n",
       "    </tr>\n",
       "  </tbody>\n",
       "</table>\n",
       "</div>"
      ],
      "text/plain": [
       "   Code                            Name     Cost\n",
       "0     1         Reverse Rhinopodoplasty   1500.0\n",
       "1     2  Obtuse Pyloric Recombobulation   3750.0\n",
       "2     3        Folded Demiophtalmectomy   4500.0\n",
       "3     4           Complete Walletectomy  10000.0\n",
       "4     5      Obfuscated Dermogastrotomy   4899.0"
      ]
     },
     "metadata": {
      "tags": []
     },
     "output_type": "display_data"
    },
    {
     "name": "stdout",
     "output_type": "stream",
     "text": [
      "========\n",
      "Trained_In\n"
     ]
    },
    {
     "data": {
      "text/html": [
       "<div>\n",
       "<style scoped>\n",
       "    .dataframe tbody tr th:only-of-type {\n",
       "        vertical-align: middle;\n",
       "    }\n",
       "\n",
       "    .dataframe tbody tr th {\n",
       "        vertical-align: top;\n",
       "    }\n",
       "\n",
       "    .dataframe thead th {\n",
       "        text-align: right;\n",
       "    }\n",
       "</style>\n",
       "<table border=\"1\" class=\"dataframe\">\n",
       "  <thead>\n",
       "    <tr style=\"text-align: right;\">\n",
       "      <th></th>\n",
       "      <th>Physician</th>\n",
       "      <th>Treatment</th>\n",
       "      <th>CertificationDate</th>\n",
       "      <th>CertificationExpires</th>\n",
       "    </tr>\n",
       "  </thead>\n",
       "  <tbody>\n",
       "    <tr>\n",
       "      <th>0</th>\n",
       "      <td>3</td>\n",
       "      <td>1</td>\n",
       "      <td>2008-01-01</td>\n",
       "      <td>2008-12-31</td>\n",
       "    </tr>\n",
       "    <tr>\n",
       "      <th>1</th>\n",
       "      <td>3</td>\n",
       "      <td>2</td>\n",
       "      <td>2008-01-01</td>\n",
       "      <td>2008-12-31</td>\n",
       "    </tr>\n",
       "    <tr>\n",
       "      <th>2</th>\n",
       "      <td>3</td>\n",
       "      <td>5</td>\n",
       "      <td>2008-01-01</td>\n",
       "      <td>2008-12-31</td>\n",
       "    </tr>\n",
       "    <tr>\n",
       "      <th>3</th>\n",
       "      <td>3</td>\n",
       "      <td>6</td>\n",
       "      <td>2008-01-01</td>\n",
       "      <td>2008-12-31</td>\n",
       "    </tr>\n",
       "    <tr>\n",
       "      <th>4</th>\n",
       "      <td>3</td>\n",
       "      <td>7</td>\n",
       "      <td>2008-01-01</td>\n",
       "      <td>2008-12-31</td>\n",
       "    </tr>\n",
       "  </tbody>\n",
       "</table>\n",
       "</div>"
      ],
      "text/plain": [
       "   Physician  Treatment CertificationDate CertificationExpires\n",
       "0          3          1        2008-01-01           2008-12-31\n",
       "1          3          2        2008-01-01           2008-12-31\n",
       "2          3          5        2008-01-01           2008-12-31\n",
       "3          3          6        2008-01-01           2008-12-31\n",
       "4          3          7        2008-01-01           2008-12-31"
      ]
     },
     "metadata": {
      "tags": []
     },
     "output_type": "display_data"
    },
    {
     "name": "stdout",
     "output_type": "stream",
     "text": [
      "========\n",
      "Patient\n"
     ]
    },
    {
     "data": {
      "text/html": [
       "<div>\n",
       "<style scoped>\n",
       "    .dataframe tbody tr th:only-of-type {\n",
       "        vertical-align: middle;\n",
       "    }\n",
       "\n",
       "    .dataframe tbody tr th {\n",
       "        vertical-align: top;\n",
       "    }\n",
       "\n",
       "    .dataframe thead th {\n",
       "        text-align: right;\n",
       "    }\n",
       "</style>\n",
       "<table border=\"1\" class=\"dataframe\">\n",
       "  <thead>\n",
       "    <tr style=\"text-align: right;\">\n",
       "      <th></th>\n",
       "      <th>SSN</th>\n",
       "      <th>Name</th>\n",
       "      <th>Address</th>\n",
       "      <th>Phone</th>\n",
       "      <th>InsuranceID</th>\n",
       "      <th>PCP</th>\n",
       "    </tr>\n",
       "  </thead>\n",
       "  <tbody>\n",
       "    <tr>\n",
       "      <th>0</th>\n",
       "      <td>100000001</td>\n",
       "      <td>John Smith</td>\n",
       "      <td>42 Foobar Lane</td>\n",
       "      <td>555-0256</td>\n",
       "      <td>68476213</td>\n",
       "      <td>1</td>\n",
       "    </tr>\n",
       "    <tr>\n",
       "      <th>1</th>\n",
       "      <td>100000002</td>\n",
       "      <td>Grace Ritchie</td>\n",
       "      <td>37 Snafu Drive</td>\n",
       "      <td>555-0512</td>\n",
       "      <td>36546321</td>\n",
       "      <td>2</td>\n",
       "    </tr>\n",
       "    <tr>\n",
       "      <th>2</th>\n",
       "      <td>100000003</td>\n",
       "      <td>Random J. Patient</td>\n",
       "      <td>101 Omgbbq Street</td>\n",
       "      <td>555-1204</td>\n",
       "      <td>65465421</td>\n",
       "      <td>2</td>\n",
       "    </tr>\n",
       "    <tr>\n",
       "      <th>3</th>\n",
       "      <td>100000004</td>\n",
       "      <td>Dennis Doe</td>\n",
       "      <td>1100 Foobaz Avenue</td>\n",
       "      <td>555-2048</td>\n",
       "      <td>68421879</td>\n",
       "      <td>3</td>\n",
       "    </tr>\n",
       "  </tbody>\n",
       "</table>\n",
       "</div>"
      ],
      "text/plain": [
       "         SSN               Name             Address     Phone  InsuranceID  PCP\n",
       "0  100000001         John Smith      42 Foobar Lane  555-0256     68476213    1\n",
       "1  100000002      Grace Ritchie      37 Snafu Drive  555-0512     36546321    2\n",
       "2  100000003  Random J. Patient   101 Omgbbq Street  555-1204     65465421    2\n",
       "3  100000004         Dennis Doe  1100 Foobaz Avenue  555-2048     68421879    3"
      ]
     },
     "metadata": {
      "tags": []
     },
     "output_type": "display_data"
    },
    {
     "name": "stdout",
     "output_type": "stream",
     "text": [
      "========\n",
      "Nurse\n"
     ]
    },
    {
     "data": {
      "text/html": [
       "<div>\n",
       "<style scoped>\n",
       "    .dataframe tbody tr th:only-of-type {\n",
       "        vertical-align: middle;\n",
       "    }\n",
       "\n",
       "    .dataframe tbody tr th {\n",
       "        vertical-align: top;\n",
       "    }\n",
       "\n",
       "    .dataframe thead th {\n",
       "        text-align: right;\n",
       "    }\n",
       "</style>\n",
       "<table border=\"1\" class=\"dataframe\">\n",
       "  <thead>\n",
       "    <tr style=\"text-align: right;\">\n",
       "      <th></th>\n",
       "      <th>EmployeeID</th>\n",
       "      <th>Name</th>\n",
       "      <th>Position</th>\n",
       "      <th>Registered</th>\n",
       "      <th>SSN</th>\n",
       "    </tr>\n",
       "  </thead>\n",
       "  <tbody>\n",
       "    <tr>\n",
       "      <th>0</th>\n",
       "      <td>101</td>\n",
       "      <td>Carla Espinosa</td>\n",
       "      <td>Head Nurse</td>\n",
       "      <td>1</td>\n",
       "      <td>111111110</td>\n",
       "    </tr>\n",
       "    <tr>\n",
       "      <th>1</th>\n",
       "      <td>102</td>\n",
       "      <td>Laverne Roberts</td>\n",
       "      <td>Nurse</td>\n",
       "      <td>1</td>\n",
       "      <td>222222220</td>\n",
       "    </tr>\n",
       "    <tr>\n",
       "      <th>2</th>\n",
       "      <td>103</td>\n",
       "      <td>Paul Flowers</td>\n",
       "      <td>Nurse</td>\n",
       "      <td>0</td>\n",
       "      <td>333333330</td>\n",
       "    </tr>\n",
       "  </tbody>\n",
       "</table>\n",
       "</div>"
      ],
      "text/plain": [
       "   EmployeeID             Name    Position  Registered        SSN\n",
       "0         101   Carla Espinosa  Head Nurse           1  111111110\n",
       "1         102  Laverne Roberts       Nurse           1  222222220\n",
       "2         103     Paul Flowers       Nurse           0  333333330"
      ]
     },
     "metadata": {
      "tags": []
     },
     "output_type": "display_data"
    },
    {
     "name": "stdout",
     "output_type": "stream",
     "text": [
      "========\n",
      "Appointment\n"
     ]
    },
    {
     "data": {
      "text/html": [
       "<div>\n",
       "<style scoped>\n",
       "    .dataframe tbody tr th:only-of-type {\n",
       "        vertical-align: middle;\n",
       "    }\n",
       "\n",
       "    .dataframe tbody tr th {\n",
       "        vertical-align: top;\n",
       "    }\n",
       "\n",
       "    .dataframe thead th {\n",
       "        text-align: right;\n",
       "    }\n",
       "</style>\n",
       "<table border=\"1\" class=\"dataframe\">\n",
       "  <thead>\n",
       "    <tr style=\"text-align: right;\">\n",
       "      <th></th>\n",
       "      <th>AppointmentID</th>\n",
       "      <th>Patient</th>\n",
       "      <th>PrepNurse</th>\n",
       "      <th>Physician</th>\n",
       "      <th>Start</th>\n",
       "      <th>End</th>\n",
       "      <th>ExaminationRoom</th>\n",
       "    </tr>\n",
       "  </thead>\n",
       "  <tbody>\n",
       "    <tr>\n",
       "      <th>0</th>\n",
       "      <td>13216584</td>\n",
       "      <td>100000001</td>\n",
       "      <td>101.0</td>\n",
       "      <td>1</td>\n",
       "      <td>2008-04-24 10:00</td>\n",
       "      <td>2008-04-24 11:00</td>\n",
       "      <td>A</td>\n",
       "    </tr>\n",
       "    <tr>\n",
       "      <th>1</th>\n",
       "      <td>26548913</td>\n",
       "      <td>100000002</td>\n",
       "      <td>101.0</td>\n",
       "      <td>2</td>\n",
       "      <td>2008-04-24 10:00</td>\n",
       "      <td>2008-04-24 11:00</td>\n",
       "      <td>B</td>\n",
       "    </tr>\n",
       "    <tr>\n",
       "      <th>2</th>\n",
       "      <td>36549879</td>\n",
       "      <td>100000001</td>\n",
       "      <td>102.0</td>\n",
       "      <td>1</td>\n",
       "      <td>2008-04-25 10:00</td>\n",
       "      <td>2008-04-25 11:00</td>\n",
       "      <td>A</td>\n",
       "    </tr>\n",
       "    <tr>\n",
       "      <th>3</th>\n",
       "      <td>46846589</td>\n",
       "      <td>100000004</td>\n",
       "      <td>103.0</td>\n",
       "      <td>4</td>\n",
       "      <td>2008-04-25 10:00</td>\n",
       "      <td>2008-04-25 11:00</td>\n",
       "      <td>B</td>\n",
       "    </tr>\n",
       "    <tr>\n",
       "      <th>4</th>\n",
       "      <td>59871321</td>\n",
       "      <td>100000004</td>\n",
       "      <td>NaN</td>\n",
       "      <td>4</td>\n",
       "      <td>2008-04-26 10:00</td>\n",
       "      <td>2008-04-26 11:00</td>\n",
       "      <td>C</td>\n",
       "    </tr>\n",
       "  </tbody>\n",
       "</table>\n",
       "</div>"
      ],
      "text/plain": [
       "   AppointmentID    Patient  ...               End  ExaminationRoom\n",
       "0       13216584  100000001  ...  2008-04-24 11:00                A\n",
       "1       26548913  100000002  ...  2008-04-24 11:00                B\n",
       "2       36549879  100000001  ...  2008-04-25 11:00                A\n",
       "3       46846589  100000004  ...  2008-04-25 11:00                B\n",
       "4       59871321  100000004  ...  2008-04-26 11:00                C\n",
       "\n",
       "[5 rows x 7 columns]"
      ]
     },
     "metadata": {
      "tags": []
     },
     "output_type": "display_data"
    },
    {
     "name": "stdout",
     "output_type": "stream",
     "text": [
      "========\n",
      "Medication\n"
     ]
    },
    {
     "data": {
      "text/html": [
       "<div>\n",
       "<style scoped>\n",
       "    .dataframe tbody tr th:only-of-type {\n",
       "        vertical-align: middle;\n",
       "    }\n",
       "\n",
       "    .dataframe tbody tr th {\n",
       "        vertical-align: top;\n",
       "    }\n",
       "\n",
       "    .dataframe thead th {\n",
       "        text-align: right;\n",
       "    }\n",
       "</style>\n",
       "<table border=\"1\" class=\"dataframe\">\n",
       "  <thead>\n",
       "    <tr style=\"text-align: right;\">\n",
       "      <th></th>\n",
       "      <th>Code</th>\n",
       "      <th>Name</th>\n",
       "      <th>Brand</th>\n",
       "      <th>Description</th>\n",
       "    </tr>\n",
       "  </thead>\n",
       "  <tbody>\n",
       "    <tr>\n",
       "      <th>0</th>\n",
       "      <td>1</td>\n",
       "      <td>Procrastin-X</td>\n",
       "      <td>X</td>\n",
       "      <td>N/A</td>\n",
       "    </tr>\n",
       "    <tr>\n",
       "      <th>1</th>\n",
       "      <td>2</td>\n",
       "      <td>Thesisin</td>\n",
       "      <td>Foo Labs</td>\n",
       "      <td>N/A</td>\n",
       "    </tr>\n",
       "    <tr>\n",
       "      <th>2</th>\n",
       "      <td>3</td>\n",
       "      <td>Awakin</td>\n",
       "      <td>Bar Laboratories</td>\n",
       "      <td>N/A</td>\n",
       "    </tr>\n",
       "    <tr>\n",
       "      <th>3</th>\n",
       "      <td>4</td>\n",
       "      <td>Crescavitin</td>\n",
       "      <td>Baz Industries</td>\n",
       "      <td>N/A</td>\n",
       "    </tr>\n",
       "    <tr>\n",
       "      <th>4</th>\n",
       "      <td>5</td>\n",
       "      <td>Melioraurin</td>\n",
       "      <td>Snafu Pharmaceuticals</td>\n",
       "      <td>N/A</td>\n",
       "    </tr>\n",
       "  </tbody>\n",
       "</table>\n",
       "</div>"
      ],
      "text/plain": [
       "   Code          Name                  Brand Description\n",
       "0     1  Procrastin-X                      X         N/A\n",
       "1     2      Thesisin               Foo Labs         N/A\n",
       "2     3        Awakin       Bar Laboratories         N/A\n",
       "3     4   Crescavitin         Baz Industries         N/A\n",
       "4     5   Melioraurin  Snafu Pharmaceuticals         N/A"
      ]
     },
     "metadata": {
      "tags": []
     },
     "output_type": "display_data"
    },
    {
     "name": "stdout",
     "output_type": "stream",
     "text": [
      "========\n",
      "Prescribes\n"
     ]
    },
    {
     "data": {
      "text/html": [
       "<div>\n",
       "<style scoped>\n",
       "    .dataframe tbody tr th:only-of-type {\n",
       "        vertical-align: middle;\n",
       "    }\n",
       "\n",
       "    .dataframe tbody tr th {\n",
       "        vertical-align: top;\n",
       "    }\n",
       "\n",
       "    .dataframe thead th {\n",
       "        text-align: right;\n",
       "    }\n",
       "</style>\n",
       "<table border=\"1\" class=\"dataframe\">\n",
       "  <thead>\n",
       "    <tr style=\"text-align: right;\">\n",
       "      <th></th>\n",
       "      <th>Physician</th>\n",
       "      <th>Patient</th>\n",
       "      <th>Medication</th>\n",
       "      <th>Date</th>\n",
       "      <th>Appointment</th>\n",
       "      <th>Dose</th>\n",
       "    </tr>\n",
       "  </thead>\n",
       "  <tbody>\n",
       "    <tr>\n",
       "      <th>0</th>\n",
       "      <td>1</td>\n",
       "      <td>100000001</td>\n",
       "      <td>1</td>\n",
       "      <td>2008-04-24 10:47</td>\n",
       "      <td>13216584.0</td>\n",
       "      <td>5</td>\n",
       "    </tr>\n",
       "    <tr>\n",
       "      <th>1</th>\n",
       "      <td>9</td>\n",
       "      <td>100000004</td>\n",
       "      <td>2</td>\n",
       "      <td>2008-04-27 10:53</td>\n",
       "      <td>86213939.0</td>\n",
       "      <td>10</td>\n",
       "    </tr>\n",
       "    <tr>\n",
       "      <th>2</th>\n",
       "      <td>9</td>\n",
       "      <td>100000004</td>\n",
       "      <td>2</td>\n",
       "      <td>2008-04-30 16:53</td>\n",
       "      <td>NaN</td>\n",
       "      <td>5</td>\n",
       "    </tr>\n",
       "  </tbody>\n",
       "</table>\n",
       "</div>"
      ],
      "text/plain": [
       "   Physician    Patient  Medication              Date  Appointment Dose\n",
       "0          1  100000001           1  2008-04-24 10:47   13216584.0    5\n",
       "1          9  100000004           2  2008-04-27 10:53   86213939.0   10\n",
       "2          9  100000004           2  2008-04-30 16:53          NaN    5"
      ]
     },
     "metadata": {
      "tags": []
     },
     "output_type": "display_data"
    },
    {
     "name": "stdout",
     "output_type": "stream",
     "text": [
      "========\n",
      "Block\n"
     ]
    },
    {
     "data": {
      "text/html": [
       "<div>\n",
       "<style scoped>\n",
       "    .dataframe tbody tr th:only-of-type {\n",
       "        vertical-align: middle;\n",
       "    }\n",
       "\n",
       "    .dataframe tbody tr th {\n",
       "        vertical-align: top;\n",
       "    }\n",
       "\n",
       "    .dataframe thead th {\n",
       "        text-align: right;\n",
       "    }\n",
       "</style>\n",
       "<table border=\"1\" class=\"dataframe\">\n",
       "  <thead>\n",
       "    <tr style=\"text-align: right;\">\n",
       "      <th></th>\n",
       "      <th>BlockFloor</th>\n",
       "      <th>BlockCode</th>\n",
       "    </tr>\n",
       "  </thead>\n",
       "  <tbody>\n",
       "    <tr>\n",
       "      <th>0</th>\n",
       "      <td>1</td>\n",
       "      <td>1</td>\n",
       "    </tr>\n",
       "    <tr>\n",
       "      <th>1</th>\n",
       "      <td>1</td>\n",
       "      <td>2</td>\n",
       "    </tr>\n",
       "    <tr>\n",
       "      <th>2</th>\n",
       "      <td>1</td>\n",
       "      <td>3</td>\n",
       "    </tr>\n",
       "    <tr>\n",
       "      <th>3</th>\n",
       "      <td>2</td>\n",
       "      <td>1</td>\n",
       "    </tr>\n",
       "    <tr>\n",
       "      <th>4</th>\n",
       "      <td>2</td>\n",
       "      <td>2</td>\n",
       "    </tr>\n",
       "  </tbody>\n",
       "</table>\n",
       "</div>"
      ],
      "text/plain": [
       "   BlockFloor  BlockCode\n",
       "0           1          1\n",
       "1           1          2\n",
       "2           1          3\n",
       "3           2          1\n",
       "4           2          2"
      ]
     },
     "metadata": {
      "tags": []
     },
     "output_type": "display_data"
    },
    {
     "name": "stdout",
     "output_type": "stream",
     "text": [
      "========\n",
      "Room\n"
     ]
    },
    {
     "data": {
      "text/html": [
       "<div>\n",
       "<style scoped>\n",
       "    .dataframe tbody tr th:only-of-type {\n",
       "        vertical-align: middle;\n",
       "    }\n",
       "\n",
       "    .dataframe tbody tr th {\n",
       "        vertical-align: top;\n",
       "    }\n",
       "\n",
       "    .dataframe thead th {\n",
       "        text-align: right;\n",
       "    }\n",
       "</style>\n",
       "<table border=\"1\" class=\"dataframe\">\n",
       "  <thead>\n",
       "    <tr style=\"text-align: right;\">\n",
       "      <th></th>\n",
       "      <th>RoomNumber</th>\n",
       "      <th>RoomType</th>\n",
       "      <th>BlockFloor</th>\n",
       "      <th>BlockCode</th>\n",
       "      <th>Unavailable</th>\n",
       "    </tr>\n",
       "  </thead>\n",
       "  <tbody>\n",
       "    <tr>\n",
       "      <th>0</th>\n",
       "      <td>101</td>\n",
       "      <td>Single</td>\n",
       "      <td>1</td>\n",
       "      <td>1</td>\n",
       "      <td>0</td>\n",
       "    </tr>\n",
       "    <tr>\n",
       "      <th>1</th>\n",
       "      <td>102</td>\n",
       "      <td>Single</td>\n",
       "      <td>1</td>\n",
       "      <td>1</td>\n",
       "      <td>0</td>\n",
       "    </tr>\n",
       "    <tr>\n",
       "      <th>2</th>\n",
       "      <td>103</td>\n",
       "      <td>Single</td>\n",
       "      <td>1</td>\n",
       "      <td>1</td>\n",
       "      <td>0</td>\n",
       "    </tr>\n",
       "    <tr>\n",
       "      <th>3</th>\n",
       "      <td>111</td>\n",
       "      <td>Single</td>\n",
       "      <td>1</td>\n",
       "      <td>2</td>\n",
       "      <td>0</td>\n",
       "    </tr>\n",
       "    <tr>\n",
       "      <th>4</th>\n",
       "      <td>112</td>\n",
       "      <td>Single</td>\n",
       "      <td>1</td>\n",
       "      <td>2</td>\n",
       "      <td>1</td>\n",
       "    </tr>\n",
       "  </tbody>\n",
       "</table>\n",
       "</div>"
      ],
      "text/plain": [
       "   RoomNumber RoomType  BlockFloor  BlockCode  Unavailable\n",
       "0         101   Single           1          1            0\n",
       "1         102   Single           1          1            0\n",
       "2         103   Single           1          1            0\n",
       "3         111   Single           1          2            0\n",
       "4         112   Single           1          2            1"
      ]
     },
     "metadata": {
      "tags": []
     },
     "output_type": "display_data"
    },
    {
     "name": "stdout",
     "output_type": "stream",
     "text": [
      "========\n",
      "On_Call\n"
     ]
    },
    {
     "data": {
      "text/html": [
       "<div>\n",
       "<style scoped>\n",
       "    .dataframe tbody tr th:only-of-type {\n",
       "        vertical-align: middle;\n",
       "    }\n",
       "\n",
       "    .dataframe tbody tr th {\n",
       "        vertical-align: top;\n",
       "    }\n",
       "\n",
       "    .dataframe thead th {\n",
       "        text-align: right;\n",
       "    }\n",
       "</style>\n",
       "<table border=\"1\" class=\"dataframe\">\n",
       "  <thead>\n",
       "    <tr style=\"text-align: right;\">\n",
       "      <th></th>\n",
       "      <th>Nurse</th>\n",
       "      <th>BlockFloor</th>\n",
       "      <th>BlockCode</th>\n",
       "      <th>OnCallStart</th>\n",
       "      <th>OnCallEnd</th>\n",
       "    </tr>\n",
       "  </thead>\n",
       "  <tbody>\n",
       "    <tr>\n",
       "      <th>0</th>\n",
       "      <td>101</td>\n",
       "      <td>1</td>\n",
       "      <td>1</td>\n",
       "      <td>2008-11-04 11:00</td>\n",
       "      <td>2008-11-04 19:00</td>\n",
       "    </tr>\n",
       "    <tr>\n",
       "      <th>1</th>\n",
       "      <td>101</td>\n",
       "      <td>1</td>\n",
       "      <td>2</td>\n",
       "      <td>2008-11-04 11:00</td>\n",
       "      <td>2008-11-04 19:00</td>\n",
       "    </tr>\n",
       "    <tr>\n",
       "      <th>2</th>\n",
       "      <td>102</td>\n",
       "      <td>1</td>\n",
       "      <td>3</td>\n",
       "      <td>2008-11-04 11:00</td>\n",
       "      <td>2008-11-04 19:00</td>\n",
       "    </tr>\n",
       "    <tr>\n",
       "      <th>3</th>\n",
       "      <td>103</td>\n",
       "      <td>1</td>\n",
       "      <td>1</td>\n",
       "      <td>2008-11-04 19:00</td>\n",
       "      <td>2008-11-05 03:00</td>\n",
       "    </tr>\n",
       "    <tr>\n",
       "      <th>4</th>\n",
       "      <td>103</td>\n",
       "      <td>1</td>\n",
       "      <td>2</td>\n",
       "      <td>2008-11-04 19:00</td>\n",
       "      <td>2008-11-05 03:00</td>\n",
       "    </tr>\n",
       "  </tbody>\n",
       "</table>\n",
       "</div>"
      ],
      "text/plain": [
       "   Nurse  BlockFloor  BlockCode       OnCallStart         OnCallEnd\n",
       "0    101           1          1  2008-11-04 11:00  2008-11-04 19:00\n",
       "1    101           1          2  2008-11-04 11:00  2008-11-04 19:00\n",
       "2    102           1          3  2008-11-04 11:00  2008-11-04 19:00\n",
       "3    103           1          1  2008-11-04 19:00  2008-11-05 03:00\n",
       "4    103           1          2  2008-11-04 19:00  2008-11-05 03:00"
      ]
     },
     "metadata": {
      "tags": []
     },
     "output_type": "display_data"
    },
    {
     "name": "stdout",
     "output_type": "stream",
     "text": [
      "========\n",
      "Stay\n"
     ]
    },
    {
     "data": {
      "text/html": [
       "<div>\n",
       "<style scoped>\n",
       "    .dataframe tbody tr th:only-of-type {\n",
       "        vertical-align: middle;\n",
       "    }\n",
       "\n",
       "    .dataframe tbody tr th {\n",
       "        vertical-align: top;\n",
       "    }\n",
       "\n",
       "    .dataframe thead th {\n",
       "        text-align: right;\n",
       "    }\n",
       "</style>\n",
       "<table border=\"1\" class=\"dataframe\">\n",
       "  <thead>\n",
       "    <tr style=\"text-align: right;\">\n",
       "      <th></th>\n",
       "      <th>StayID</th>\n",
       "      <th>Patient</th>\n",
       "      <th>Room</th>\n",
       "      <th>StayStart</th>\n",
       "      <th>StayEnd</th>\n",
       "    </tr>\n",
       "  </thead>\n",
       "  <tbody>\n",
       "    <tr>\n",
       "      <th>0</th>\n",
       "      <td>3215</td>\n",
       "      <td>100000001</td>\n",
       "      <td>111</td>\n",
       "      <td>2008-05-01</td>\n",
       "      <td>2008-05-04</td>\n",
       "    </tr>\n",
       "    <tr>\n",
       "      <th>1</th>\n",
       "      <td>3216</td>\n",
       "      <td>100000003</td>\n",
       "      <td>123</td>\n",
       "      <td>2008-05-03</td>\n",
       "      <td>2008-05-14</td>\n",
       "    </tr>\n",
       "    <tr>\n",
       "      <th>2</th>\n",
       "      <td>3217</td>\n",
       "      <td>100000004</td>\n",
       "      <td>112</td>\n",
       "      <td>2008-05-02</td>\n",
       "      <td>2008-05-03</td>\n",
       "    </tr>\n",
       "  </tbody>\n",
       "</table>\n",
       "</div>"
      ],
      "text/plain": [
       "   StayID    Patient  Room   StayStart     StayEnd\n",
       "0    3215  100000001   111  2008-05-01  2008-05-04\n",
       "1    3216  100000003   123  2008-05-03  2008-05-14\n",
       "2    3217  100000004   112  2008-05-02  2008-05-03"
      ]
     },
     "metadata": {
      "tags": []
     },
     "output_type": "display_data"
    },
    {
     "name": "stdout",
     "output_type": "stream",
     "text": [
      "========\n",
      "Undergoes\n"
     ]
    },
    {
     "data": {
      "text/html": [
       "<div>\n",
       "<style scoped>\n",
       "    .dataframe tbody tr th:only-of-type {\n",
       "        vertical-align: middle;\n",
       "    }\n",
       "\n",
       "    .dataframe tbody tr th {\n",
       "        vertical-align: top;\n",
       "    }\n",
       "\n",
       "    .dataframe thead th {\n",
       "        text-align: right;\n",
       "    }\n",
       "</style>\n",
       "<table border=\"1\" class=\"dataframe\">\n",
       "  <thead>\n",
       "    <tr style=\"text-align: right;\">\n",
       "      <th></th>\n",
       "      <th>Patient</th>\n",
       "      <th>Procedures</th>\n",
       "      <th>Stay</th>\n",
       "      <th>DateUndergoes</th>\n",
       "      <th>Physician</th>\n",
       "      <th>AssistingNurse</th>\n",
       "    </tr>\n",
       "  </thead>\n",
       "  <tbody>\n",
       "    <tr>\n",
       "      <th>0</th>\n",
       "      <td>100000001</td>\n",
       "      <td>6</td>\n",
       "      <td>3215</td>\n",
       "      <td>2008-05-02</td>\n",
       "      <td>3</td>\n",
       "      <td>101</td>\n",
       "    </tr>\n",
       "    <tr>\n",
       "      <th>1</th>\n",
       "      <td>100000001</td>\n",
       "      <td>2</td>\n",
       "      <td>3215</td>\n",
       "      <td>2008-05-03</td>\n",
       "      <td>7</td>\n",
       "      <td>101</td>\n",
       "    </tr>\n",
       "    <tr>\n",
       "      <th>2</th>\n",
       "      <td>100000004</td>\n",
       "      <td>1</td>\n",
       "      <td>3217</td>\n",
       "      <td>2008-05-07</td>\n",
       "      <td>3</td>\n",
       "      <td>102</td>\n",
       "    </tr>\n",
       "    <tr>\n",
       "      <th>3</th>\n",
       "      <td>100000004</td>\n",
       "      <td>5</td>\n",
       "      <td>3217</td>\n",
       "      <td>2008-05-09</td>\n",
       "      <td>6</td>\n",
       "      <td>105</td>\n",
       "    </tr>\n",
       "    <tr>\n",
       "      <th>4</th>\n",
       "      <td>100000001</td>\n",
       "      <td>7</td>\n",
       "      <td>3217</td>\n",
       "      <td>2008-05-10</td>\n",
       "      <td>7</td>\n",
       "      <td>101</td>\n",
       "    </tr>\n",
       "  </tbody>\n",
       "</table>\n",
       "</div>"
      ],
      "text/plain": [
       "     Patient  Procedures  Stay DateUndergoes  Physician  AssistingNurse\n",
       "0  100000001           6  3215    2008-05-02          3             101\n",
       "1  100000001           2  3215    2008-05-03          7             101\n",
       "2  100000004           1  3217    2008-05-07          3             102\n",
       "3  100000004           5  3217    2008-05-09          6             105\n",
       "4  100000001           7  3217    2008-05-10          7             101"
      ]
     },
     "metadata": {
      "tags": []
     },
     "output_type": "display_data"
    },
    {
     "name": "stdout",
     "output_type": "stream",
     "text": [
      "========\n"
     ]
    }
   ],
   "source": [
    "import pandas as pd\n",
    "\n",
    "from IPython.display import display, HTML\n",
    "\n",
    "for table_name in tables:\n",
    "    table_name = table_name[0]\n",
    "    table = pd.read_sql_query(\"SELECT * from %s\" % table_name, conn)\n",
    "    print (table_name)\n",
    "    display (table.head(5))\n",
    "    print ('========')"
   ]
  },
  {
   "cell_type": "code",
   "execution_count": 63,
   "metadata": {
    "colab": {
     "base_uri": "https://localhost:8080/",
     "height": 50
    },
    "id": "I7n_gwQAAfW7",
    "outputId": "f7551bfd-02e7-4411-8091-82686835c3f8"
   },
   "outputs": [
    {
     "name": "stdout",
     "output_type": "stream",
     "text": [
      "\n",
      "reading db:  hospital_records.sqlite\n"
     ]
    }
   ],
   "source": [
    "from sparknlp_jsl._tf_graph_builders.text2sql.util import sqlite2json\n",
    "\n",
    "sqlite2json(\"hospital_records.sqlite\",\"hospital_schema_converted.json\")"
   ]
  },
  {
   "cell_type": "code",
   "execution_count": 64,
   "metadata": {
    "colab": {
     "base_uri": "https://localhost:8080/",
     "height": 342
    },
    "id": "2WeSAMxFDCan",
    "outputId": "3593e1ad-e7b5-4438-d4a9-9220b9c98c03"
   },
   "outputs": [
    {
     "name": "stdout",
     "output_type": "stream",
     "text": [
      "glove_6B_300 download started this may take some time.\n",
      "Approximate size to download 426.2 MB\n",
      "[OK!]\n",
      "hospital_db_embeddings.json is created and saved\n",
      "+---+----+--------------------+--------------------+--------------------+--------------------+--------------------+------------------------------+--------------------+\n",
      "| id|text|            document|table_metadata_chunk|  table_metadata_doc|         table_token|     table_embedding|table_metadata_chunk_embedding|              export|\n",
      "+---+----+--------------------+--------------------+--------------------+--------------------+--------------------+------------------------------+--------------------+\n",
      "|  1|    |[[document, 0, -1...|[[chunk, 0, 8, ph...|[[document, 0, 8,...|[[token, 0, 8, ph...|[[word_embeddings...|          [[word_embeddings...|[[chunk, 0, 8, ph...|\n",
      "+---+----+--------------------+--------------------+--------------------+--------------------+--------------------+------------------------------+--------------------+\n",
      "\n",
      "sentence_detector_dl download started this may take some time.\n",
      "Approximate size to download 307.2 KB\n",
      "[OK!]\n",
      "glove_6B_300 download started this may take some time.\n",
      "Approximate size to download 426.2 MB\n",
      "[OK!]\n",
      "text2sql_glove download started this may take some time.\n",
      "Approximate size to download 37.6 MB\n",
      "[OK!]\n",
      "text2sql prediction model is built\n"
     ]
    }
   ],
   "source": [
    "schema_json_path = \"hospital_schema_converted.json\"\n",
    "\n",
    "output_json_path = \"hospital_db_embeddings.json\"\n",
    "\n",
    "prepare_db_schema(schema_json_path, output_json_path)\n",
    "\n",
    "hospital_sql_prediction_light = get_text2sql_model (schema_json_path, output_json_path)"
   ]
  },
  {
   "cell_type": "code",
   "execution_count": 65,
   "metadata": {
    "colab": {
     "base_uri": "https://localhost:8080/",
     "height": 190
    },
    "id": "h7it5o_LE0nl",
    "outputId": "9e70199f-d3f8-44fc-9725-2d0da5a6e154"
   },
   "outputs": [
    {
     "name": "stdout",
     "output_type": "stream",
     "text": [
      "SELECT T1.Appointment\n",
      "FROM Prescribes AS T1\n",
      "JOIN Appointment AS T2 ON T1.Appointment = T2.AppointmentID\n",
      "ORDER BY T2.Start DESC\n",
      "LIMIT 1\n",
      "\n",
      "\n"
     ]
    },
    {
     "data": {
      "text/html": [
       "<div>\n",
       "<style scoped>\n",
       "    .dataframe tbody tr th:only-of-type {\n",
       "        vertical-align: middle;\n",
       "    }\n",
       "\n",
       "    .dataframe tbody tr th {\n",
       "        vertical-align: top;\n",
       "    }\n",
       "\n",
       "    .dataframe thead th {\n",
       "        text-align: right;\n",
       "    }\n",
       "</style>\n",
       "<table border=\"1\" class=\"dataframe\">\n",
       "  <thead>\n",
       "    <tr style=\"text-align: right;\">\n",
       "      <th></th>\n",
       "      <th>Appointment</th>\n",
       "    </tr>\n",
       "  </thead>\n",
       "  <tbody>\n",
       "    <tr>\n",
       "      <th>0</th>\n",
       "      <td>86213939</td>\n",
       "    </tr>\n",
       "  </tbody>\n",
       "</table>\n",
       "</div>"
      ],
      "text/plain": [
       "   Appointment\n",
       "0     86213939"
      ]
     },
     "metadata": {
      "tags": []
     },
     "output_type": "display_data"
    }
   ],
   "source": [
    "annotate_and_print(\"Find the id of the appointment with the most recent start date\", hospital_sql_prediction_light)"
   ]
  },
  {
   "cell_type": "code",
   "execution_count": 66,
   "metadata": {
    "colab": {
     "base_uri": "https://localhost:8080/",
     "height": 180
    },
    "id": "oudUrb1oFFH8",
    "outputId": "5e3bf15e-46f4-4916-f7a5-1e22f3e35e81"
   },
   "outputs": [
    {
     "name": "stdout",
     "output_type": "stream",
     "text": [
      "SELECT T1.Name\n",
      "FROM Patient AS T1\n",
      "JOIN Appointment AS T2 ON T1.SSN = T2.Patient\n",
      "ORDER BY T2.Start DESC\n",
      "LIMIT 1\n",
      "\n",
      "\n",
      "|    | Name       |\n",
      "|---:|:-----------|\n",
      "|  0 | Dennis Doe |\n"
     ]
    }
   ],
   "source": [
    "annotate_and_print(\"What is the name of the patient who made the most recent appointment\", hospital_sql_prediction_light, markdown=True)"
   ]
  },
  {
   "cell_type": "code",
   "execution_count": 35,
   "metadata": {
    "colab": {
     "base_uri": "https://localhost:8080/",
     "height": 157
    },
    "id": "gK3t74wJFczx",
    "outputId": "6787e359-1bb9-4a15-fc72-48a68d6b8bc6"
   },
   "outputs": [
    {
     "name": "stdout",
     "output_type": "stream",
     "text": [
      "SELECT count(T1.Patient)\n",
      "FROM Stay AS T1\n",
      "WHERE T1.Room = ?\n",
      "\n",
      "\n"
     ]
    },
    {
     "data": {
      "text/html": [
       "<div>\n",
       "<style scoped>\n",
       "    .dataframe tbody tr th:only-of-type {\n",
       "        vertical-align: middle;\n",
       "    }\n",
       "\n",
       "    .dataframe tbody tr th {\n",
       "        vertical-align: top;\n",
       "    }\n",
       "\n",
       "    .dataframe thead th {\n",
       "        text-align: right;\n",
       "    }\n",
       "</style>\n",
       "<table border=\"1\" class=\"dataframe\">\n",
       "  <thead>\n",
       "    <tr style=\"text-align: right;\">\n",
       "      <th></th>\n",
       "      <th>count(T1.Patient)</th>\n",
       "    </tr>\n",
       "  </thead>\n",
       "  <tbody>\n",
       "    <tr>\n",
       "      <th>0</th>\n",
       "      <td>1</td>\n",
       "    </tr>\n",
       "  </tbody>\n",
       "</table>\n",
       "</div>"
      ],
      "text/plain": [
       "   count(T1.Patient)\n",
       "0                  1"
      ]
     },
     "metadata": {
      "tags": []
     },
     "output_type": "display_data"
    }
   ],
   "source": [
    "annotate_and_print(\"How many patients stay in room 112?\", hospital_sql_prediction_light, ['112'])"
   ]
  },
  {
   "cell_type": "code",
   "execution_count": 36,
   "metadata": {
    "colab": {
     "base_uri": "https://localhost:8080/",
     "height": 222
    },
    "id": "OFzQPTTiFkO8",
    "outputId": "69c27be8-9d06-4bfc-c077-d250e032e781"
   },
   "outputs": [
    {
     "name": "stdout",
     "output_type": "stream",
     "text": [
      "SELECT T1.Patient\n",
      "FROM Stay AS T1\n",
      "JOIN Patient AS T3 ON T1.Patient = T3.SSN\n",
      "JOIN Prescribes AS T2 ON T3.SSN = T2.Patient\n",
      "WHERE T1.Room = ?\n",
      "ORDER BY T2.Date DESC\n",
      "LIMIT 1\n",
      "\n",
      "\n"
     ]
    },
    {
     "data": {
      "text/html": [
       "<div>\n",
       "<style scoped>\n",
       "    .dataframe tbody tr th:only-of-type {\n",
       "        vertical-align: middle;\n",
       "    }\n",
       "\n",
       "    .dataframe tbody tr th {\n",
       "        vertical-align: top;\n",
       "    }\n",
       "\n",
       "    .dataframe thead th {\n",
       "        text-align: right;\n",
       "    }\n",
       "</style>\n",
       "<table border=\"1\" class=\"dataframe\">\n",
       "  <thead>\n",
       "    <tr style=\"text-align: right;\">\n",
       "      <th></th>\n",
       "      <th>Patient</th>\n",
       "    </tr>\n",
       "  </thead>\n",
       "  <tbody>\n",
       "    <tr>\n",
       "      <th>0</th>\n",
       "      <td>100000001</td>\n",
       "    </tr>\n",
       "  </tbody>\n",
       "</table>\n",
       "</div>"
      ],
      "text/plain": [
       "     Patient\n",
       "0  100000001"
      ]
     },
     "metadata": {
      "tags": []
     },
     "output_type": "display_data"
    }
   ],
   "source": [
    "annotate_and_print(\"Find the patient who most recently stayed in room 111.\",hospital_sql_prediction_light, [\"111\"])"
   ]
  },
  {
   "cell_type": "code",
   "execution_count": 38,
   "metadata": {
    "colab": {
     "base_uri": "https://localhost:8080/",
     "height": 206
    },
    "id": "--ArvFIDF6aA",
    "outputId": "53991e64-a07e-4cf4-fdd0-581dfecf80be"
   },
   "outputs": [
    {
     "name": "stdout",
     "output_type": "stream",
     "text": [
      "SELECT T1.Name\n",
      "FROM Nurse AS T1\n",
      "JOIN Appointment AS T2 ON T1.EmployeeID = T2.PrepNurse\n",
      "GROUP BY T2.prepnurse\n",
      "ORDER BY count(*) DESC\n",
      "LIMIT 1\n",
      "\n",
      "\n"
     ]
    },
    {
     "data": {
      "text/html": [
       "<div>\n",
       "<style scoped>\n",
       "    .dataframe tbody tr th:only-of-type {\n",
       "        vertical-align: middle;\n",
       "    }\n",
       "\n",
       "    .dataframe tbody tr th {\n",
       "        vertical-align: top;\n",
       "    }\n",
       "\n",
       "    .dataframe thead th {\n",
       "        text-align: right;\n",
       "    }\n",
       "</style>\n",
       "<table border=\"1\" class=\"dataframe\">\n",
       "  <thead>\n",
       "    <tr style=\"text-align: right;\">\n",
       "      <th></th>\n",
       "      <th>Name</th>\n",
       "    </tr>\n",
       "  </thead>\n",
       "  <tbody>\n",
       "    <tr>\n",
       "      <th>0</th>\n",
       "      <td>Carla Espinosa</td>\n",
       "    </tr>\n",
       "  </tbody>\n",
       "</table>\n",
       "</div>"
      ],
      "text/plain": [
       "             Name\n",
       "0  Carla Espinosa"
      ]
     },
     "metadata": {
      "tags": []
     },
     "output_type": "display_data"
    }
   ],
   "source": [
    "annotate_and_print(\"What is the name of the nurse has the most appointments?\", hospital_sql_prediction_light)"
   ]
  },
  {
   "cell_type": "code",
   "execution_count": 68,
   "metadata": {
    "colab": {
     "base_uri": "https://localhost:8080/",
     "height": 196
    },
    "id": "wVmo0p4TcoqZ",
    "outputId": "473e6d6e-860e-4029-855a-6199e7be3389"
   },
   "outputs": [
    {
     "name": "stdout",
     "output_type": "stream",
     "text": [
      "SELECT T1.Name\n",
      "FROM Nurse AS T1\n",
      "JOIN Appointment AS T2 ON T1.EmployeeID = T2.PrepNurse\n",
      "GROUP BY T2.prepnurse\n",
      "ORDER BY count(*) DESC\n",
      "LIMIT 1\n",
      "\n",
      "\n",
      "|    | Name           |\n",
      "|---:|:---------------|\n",
      "|  0 | Carla Espinosa |\n"
     ]
    }
   ],
   "source": [
    "annotate_and_print(\"What is the name of the nurse has the most appointments?\", hospital_sql_prediction_light, markdown=True)"
   ]
  },
  {
   "cell_type": "code",
   "execution_count": 40,
   "metadata": {
    "colab": {
     "base_uri": "https://localhost:8080/",
     "height": 247
    },
    "id": "Vmd-dz6uF_U_",
    "outputId": "0d0ded64-b614-4371-a7f4-4b8c1d548169"
   },
   "outputs": [
    {
     "name": "stdout",
     "output_type": "stream",
     "text": [
      "SELECT T1.Name,\n",
      "       count(*)\n",
      "FROM Physician AS T1\n",
      "JOIN Patient AS T2 ON T1.EmployeeID = T2.PCP\n",
      "GROUP BY T1.Name\n",
      "\n",
      "\n"
     ]
    },
    {
     "data": {
      "text/html": [
       "<div>\n",
       "<style scoped>\n",
       "    .dataframe tbody tr th:only-of-type {\n",
       "        vertical-align: middle;\n",
       "    }\n",
       "\n",
       "    .dataframe tbody tr th {\n",
       "        vertical-align: top;\n",
       "    }\n",
       "\n",
       "    .dataframe thead th {\n",
       "        text-align: right;\n",
       "    }\n",
       "</style>\n",
       "<table border=\"1\" class=\"dataframe\">\n",
       "  <thead>\n",
       "    <tr style=\"text-align: right;\">\n",
       "      <th></th>\n",
       "      <th>Name</th>\n",
       "      <th>count(*)</th>\n",
       "    </tr>\n",
       "  </thead>\n",
       "  <tbody>\n",
       "    <tr>\n",
       "      <th>0</th>\n",
       "      <td>Christopher Turk</td>\n",
       "      <td>1</td>\n",
       "    </tr>\n",
       "    <tr>\n",
       "      <th>1</th>\n",
       "      <td>Elliot Reid</td>\n",
       "      <td>2</td>\n",
       "    </tr>\n",
       "    <tr>\n",
       "      <th>2</th>\n",
       "      <td>John Dorian</td>\n",
       "      <td>1</td>\n",
       "    </tr>\n",
       "  </tbody>\n",
       "</table>\n",
       "</div>"
      ],
      "text/plain": [
       "               Name  count(*)\n",
       "0  Christopher Turk         1\n",
       "1       Elliot Reid         2\n",
       "2       John Dorian         1"
      ]
     },
     "metadata": {
      "tags": []
     },
     "output_type": "display_data"
    }
   ],
   "source": [
    "annotate_and_print(\"How many patients do each physician take care of? List their names and number of patients they take care of.\", hospital_sql_prediction_light)"
   ]
  },
  {
   "cell_type": "code",
   "execution_count": 67,
   "metadata": {
    "colab": {
     "base_uri": "https://localhost:8080/",
     "height": 212
    },
    "id": "BsL3ayVJGFpe",
    "outputId": "e53ce3b9-faea-4bc7-fbdd-7b32abbde685"
   },
   "outputs": [
    {
     "name": "stdout",
     "output_type": "stream",
     "text": [
      "SELECT T1.Name,\n",
      "       count(*)\n",
      "FROM Physician AS T1\n",
      "JOIN Patient AS T2 ON T1.EmployeeID = T2.PCP\n",
      "GROUP BY T1.Name\n",
      "\n",
      "\n",
      "|    | Name             |   count(*) |\n",
      "|---:|:-----------------|-----------:|\n",
      "|  0 | Christopher Turk |          1 |\n",
      "|  1 | Elliot Reid      |          2 |\n",
      "|  2 | John Dorian      |          1 |\n"
     ]
    }
   ],
   "source": [
    "annotate_and_print(\"How many patients do each physician take care of? List their names and number of patients they take care of.\", hospital_sql_prediction_light, markdown=True)"
   ]
  },
  {
   "cell_type": "code",
   "execution_count": null,
   "metadata": {
    "id": "5EzwFfbEKGn3"
   },
   "outputs": [],
   "source": []
  }
 ],
 "metadata": {
  "colab": {
   "collapsed_sections": [],
   "name": "18.Text2SQL.ipynb",
   "provenance": [],
   "toc_visible": true
  },
  "kernelspec": {
   "display_name": "Python 3",
   "language": "python",
   "name": "python3"
  },
  "language_info": {
   "codemirror_mode": {
    "name": "ipython",
    "version": 3
   },
   "file_extension": ".py",
   "mimetype": "text/x-python",
   "name": "python",
   "nbconvert_exporter": "python",
   "pygments_lexer": "ipython3",
   "version": "3.7.4"
  }
 },
 "nbformat": 4,
 "nbformat_minor": 4
}
